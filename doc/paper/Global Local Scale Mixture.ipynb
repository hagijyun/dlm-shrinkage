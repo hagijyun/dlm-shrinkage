{
 "metadata": {
  "name": "Global Local Scale Mixture"
 },
 "nbformat": 3,
 "nbformat_minor": 0,
 "worksheets": [
  {
   "cells": [
    {
     "cell_type": "code",
     "collapsed": false,
     "input": [
      "from sympy import *"
     ],
     "language": "python",
     "metadata": {},
     "outputs": [],
     "prompt_number": 1
    },
    {
     "cell_type": "code",
     "collapsed": false,
     "input": [
      "from sympy.abc import *"
     ],
     "language": "python",
     "metadata": {},
     "outputs": [],
     "prompt_number": 2
    },
    {
     "cell_type": "markdown",
     "metadata": {},
     "source": [
      "Suppose $\\lambda^2 \\sim p(\\lambda^2)$. Want to find the distribution of $\\kappa = \\frac{1}{1 + \\tau^2 \\lambda^2}$.\n"
     ]
    },
    {
     "cell_type": "markdown",
     "metadata": {},
     "source": [
      "Let $f (\\lambda^2 | \\tau^2) = \\frac{1}{1 + \\tau^2 \\lambda^2}$."
     ]
    },
    {
     "cell_type": "code",
     "collapsed": false,
     "input": [
      "def f(T, L): return 1 / (1 + T * L)"
     ],
     "language": "python",
     "metadata": {},
     "outputs": [],
     "prompt_number": 6
    },
    {
     "cell_type": "markdown",
     "metadata": {},
     "source": [
      "Its inverse is $\\lambda^2 = f^{-1}(\\kappa | \\tau^2) = \\frac{ 1 - \\kappa}{\\kappa \\tau^2}$"
     ]
    },
    {
     "cell_type": "code",
     "collapsed": false,
     "input": [
      "solve(K - f(T, L), L)"
     ],
     "language": "python",
     "metadata": {},
     "outputs": [
      {
       "output_type": "pyout",
       "prompt_number": 7,
       "text": [
        "[-(K - 1)/(K*T)]"
       ]
      }
     ],
     "prompt_number": 7
    },
    {
     "cell_type": "markdown",
     "metadata": {},
     "source": [
      "The derivative with respect to $\\lambda^2$ is $\\frac{\\partial f}{\\partial \\lambda^2} = \\frac{- \\tau^2}{(\\lambda^2 \\tau^2 + 1)^2}$"
     ]
    },
    {
     "cell_type": "code",
     "collapsed": false,
     "input": [
      "diff(f(T, L), L)"
     ],
     "language": "python",
     "metadata": {},
     "outputs": [
      {
       "output_type": "pyout",
       "prompt_number": 8,
       "text": [
        "-T/(L*T + 1)**2"
       ]
      }
     ],
     "prompt_number": 8
    },
    {
     "cell_type": "code",
     "collapsed": false,
     "input": [],
     "language": "python",
     "metadata": {},
     "outputs": []
    }
   ],
   "metadata": {}
  }
 ]
}